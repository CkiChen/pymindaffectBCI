{
 "cells": [
  {
   "cell_type": "markdown",
   "metadata": {},
   "source": [
    "Example offline analysis of [mindaffectBCI](https://github.com/mindaffect) savefile\n",
    "--\n",
    "This notebook shows how to do a quick post-hoc analysis of a test run using the  mindaffectBCI Makers-Kit."
   ]
  },
  {
   "cell_type": "code",
   "execution_count": null,
   "metadata": {},
   "outputs": [],
   "source": [
    "import numpy as np\n",
    "from analyse_datasets import debug_test_dataset, analyse_dataset, analyse_datasets\n",
    "from offline.load_mindaffectBCI  import load_mindaffectBCI\n",
    "import matplotlib.pyplot as plt\n",
    "%matplotlib inline\n",
    "%load_ext autoreload\n",
    "%autoreload 2\n",
    "plt.rcParams['figure.figsize'] = [12, 8] # bigger default figures"
   ]
  },
  {
   "cell_type": "markdown",
   "metadata": {},
   "source": [
    "Specify the save file you wish to analyse.  If you want to analyse a file from the mindaffect Makers Kit, then you  can download the save file from the decoder configuration page in the `data` directory.  \n",
    "\n",
    "You can find the decoder configuration website at http://10.0.0.5 if the decoder is in direction connection mode, or the decoder IP if not.  If you  don't now the decoders IP you can run this script to find it: \n",
    "\n",
    "`python3 -m mindaffectBCI.examples.utilities.discover_decoders`"
   ]
  },
  {
   "cell_type": "code",
   "execution_count": null,
   "metadata": {},
   "outputs": [],
   "source": [
    "# the  file we want to analyse\n",
    "savefile = '../../resources/example_data/mindaffectBCI.txt'"
   ]
  },
  {
   "cell_type": "markdown",
   "metadata": {},
   "source": [
    "Load the data\n",
    "-------------------\n",
    "\n",
    "load, doing some inital  pre-processing.\n",
    "  * stopband = list of band-stop filters. \n",
    "    ((0,1),(25,-1)) means stop below 1 and above 25 Hz ->  band pass between 1 and 25hz\n",
    "  * ofs = output sample rate, so will resample to (approx) 60hz\n",
    "  \n",
    "Note: The EEG data has shape number channels + 1 as it include an additional virtual 'time-stamp' channel.  Don't include this channel in any further analysis."
   ]
  },
  {
   "cell_type": "code",
   "execution_count": null,
   "metadata": {},
   "outputs": [],
   "source": [
    "X, Y, coords = load_mindaffectBCI(savefile, stopband=((0,1),(25,-1)), ofs=60)\n",
    "# output is: X=eeg, Y=stimulus, coords=meta-info about dimensions of X and Y\n",
    "print(\"EEG: X({}){} @{}Hz\".format([c['name'] for c in coords],X.shape,coords[1]['fs']))                            \n",
    "print(\"STIMULUS: Y({}){}\".format([c['name'] for c in coords[:1]]+['output'],Y.shape))"
   ]
  },
  {
   "cell_type": "code",
   "execution_count": null,
   "metadata": {},
   "outputs": [],
   "source": []
  },
  {
   "cell_type": "markdown",
   "metadata": {},
   "source": [
    "Analyse the data\n",
    "--\n",
    "The following code runs the standard initial analysis and data-set visualization, in one go with some standard analysis parameters:\n",
    " * tau_ms : the lenght of the modelled stimulus response   (in milliseconds)\n",
    " * evtlabs : the type of brain feaatures to transform the stimulus information into prior to fitting the model in this case \n",
    "     * 're' -> rising edge    \n",
    "     * 'fe' -> falling edge\n",
    "   see stim2event for  more   information on possible transformations\n",
    " * rank  : the rank of  the CCA model to fit\n",
    " * model : the type of model to fit. 'cca' corrospends to the Cannonical Correlation Analysis model.\n",
    "           other options include: \n",
    "           * 'ridge' = ridge-regression, \n",
    "           * 'fwd' = Forward Modelling, \n",
    "           * 'bwd' = Backward Modelling, \n",
    "           * 'lr' = logistic-regression, \n",
    "           * 'svc' = support vector machine\n",
    "   see `model_fitting.py` for how to add more models"
   ]
  },
  {
   "cell_type": "markdown",
   "metadata": {},
   "source": [
    "This generates 6 visualizations:\n",
    "\n",
    " 1.  *X+Y* : raw plot of  the 1st trials EEG and STIMULUS information\n",
    "\n",
    " 2.  *Summary Statistics*: Summary statistics for the data with, \n",
    "      row 1:   Cxx : the covariance of the the EEG channel features\n",
    "      row 2:   Cxy : the cross covariance of the EEG with each of the stimulus features, e.g. 're', 'fe'\n",
    "      row 3:   Cyy : the auto-cross covariance of the stimulus features with the other (time-delayed) stimulus features\n",
    "\n",
    " 3. *ERP* : plot of the average response for each stimulus feature over EEG  channels\n",
    "\n",
    " 4. *Decoding Curve* : The decoder accumulates information during a trial to make it's predictions better. This plot shows the error of this accumulated prediction as a function of number of samples since trial start\n",
    "\n",
    " 5. *Model*: plot of the fitted model, as a feature weighting over time-points and EEG channels\n",
    "\n",
    " 6. *Fe* : Applying the model generates a *predicted* stimulus-feature \"score\" for each EEG time point. Where a higher score means the model thinks that stimulus-feature is more likely at this time point. This plot shows these scores for a sub-set of the trials.\n",
    "\n",
    " 7. *Fy* : Combining Fe (the predicted stimulus),  with Y (the true-stimulus) and summing from the trial-start gives a score for each possible output, where again the higher score  indicates the model thinks this output is the more likely to be the *true* target.  \n",
    " This plot shows these accumulated scores for each output, *with the true output* draw with a thicker black line.  Thus, for a good model you should see that black line is the highest for most/all trials.\n"
   ]
  },
  {
   "cell_type": "code",
   "execution_count": null,
   "metadata": {},
   "outputs": [],
   "source": [
    "debug_test_dataset(X[...,:-1], Y, coords, tau_ms=100, evtlabs=('re','fe'), rank=1, model='cca')"
   ]
  },
  {
   "cell_type": "code",
   "execution_count": null,
   "metadata": {},
   "outputs": [],
   "source": []
  }
 ],
 "metadata": {
  "kernelspec": {
   "display_name": "Python 3",
   "language": "python",
   "name": "python3"
  },
  "language_info": {
   "codemirror_mode": {
    "name": "ipython",
    "version": 3
   },
   "file_extension": ".py",
   "mimetype": "text/x-python",
   "name": "python",
   "nbconvert_exporter": "python",
   "pygments_lexer": "ipython3",
   "version": "3.7.4"
  }
 },
 "nbformat": 4,
 "nbformat_minor": 2
}
