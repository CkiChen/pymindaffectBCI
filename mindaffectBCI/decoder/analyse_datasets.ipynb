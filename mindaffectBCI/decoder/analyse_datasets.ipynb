{
 "cells": [
  {
   "cell_type": "code",
   "execution_count": null,
   "metadata": {
    "scrolled": false
   },
   "outputs": [],
   "source": [
    "import numpy as np\n",
    "from datasets import get_dataset\n",
    "from model_fitting import MultiCCA\n",
    "from decodingCurveSupervised import decodingCurveSupervised\n",
    "from sklearn.model_selection import StratifiedKFold\n",
    "import matplotlib.pyplot as plt\n",
    "from analyse_datasets import analyse_dataset, analyse_datasets, debug_test_dataset, debug_test_single_dataset\n",
    "%matplotlib inline\n",
    "%load_ext autoreload\n",
    "%autoreload 2"
   ]
  },
  {
   "cell_type": "code",
   "execution_count": null,
   "metadata": {
    "scrolled": false
   },
   "outputs": [],
   "source": [
    "dataset_loader, dataset_files, dataroot = get_dataset('plos_one')\n",
    "print(\"Got {} datasets\\n{}\".format(len(dataset_files),dataset_files))"
   ]
  },
  {
   "cell_type": "code",
   "execution_count": null,
   "metadata": {
    "scrolled": true
   },
   "outputs": [],
   "source": [
    "# run all 'plos_one' datasets with cross-validation to estimate system performance, with:\n",
    "#   dataset:string - dataset to load, using datasets.get_dataset.  See datasets.py for full list datasets\n",
    "#   loader_args:dict - ofs:float - output-sample-rate of 60Hz\n",
    "#                  stopband:list - list of stop-bands applied during loading before slicing.  \n",
    "#                            (0,3) = high-pass at 3hz,   (30,-1) = stop between 30 and inf = low-pass at 30\n",
    "#                            together these mean band-pass 3-30\n",
    "#   preprocess_args:dict - set of parameters to pass to the preprocessor (if any)\n",
    "#   model:string - type of model to fit, including: 'cca','fwd','bwd','ridge','lr','svr','svc','sklearn' see model_fitting for full list.\n",
    "#                  Note: different models may require different parameters in clsfr_args\n",
    "#   clsfr_args:dict - tau_ms:float - stimulus response length in milliseconds\n",
    "#                 evtlabs:list - list of brain-events to use (see stim2event.py for full possibilities)  're'=rising-edge, 'fe'=falling-edge\n",
    "#                 rank:int - rank of the decomposition to fit \n",
    "analyse_datasets('plos_one',loader_args=dict(ofs=80,stopband=((0,3),(25,-1))),\n",
    "                 model='cca',clsfr_args=dict(tau_ms=450,evtlabs=('re','fe'),rank=1,reg=0.02))\n",
    "#  when it's done it will make a summary plot ofthe decoding curves over all the datasets\n",
    "\n",
    "# bp=3-25, tau=500, rank=3, reg=.02, ofs=80 -> .75 (@.09)\n",
    "# bp=3-25, tau=450, rank=1, reg=.02, ofs=80 -> .71 (@.12 : 28,9,27,24)\n",
    "# bp=3-25, tau=450, rank=1, reg=.02, ofs=80, evtlabs=('re','fe','anyfe') -> .67 (@.14)"
   ]
  },
  {
   "cell_type": "code",
   "execution_count": null,
   "metadata": {
    "scrolled": true
   },
   "outputs": [],
   "source": [
    "analyse_datasets('plos_one',loader_args=dict(ofs=60,stopband=((0,3),(30,-1))),\n",
    "                 model='lr',clsfr_args=dict(tau_ms=350,evtlabs=('re','fe')))"
   ]
  },
  {
   "cell_type": "code",
   "execution_count": null,
   "metadata": {
    "scrolled": false
   },
   "outputs": [],
   "source": [
    "# try with different modeling parameters, \n",
    "#   e.g. 2-bit brain responses, '00'=low,'11'=high,'01'=rising-edge,'10'=falling-edge\n",
    "analyse_datasets('plos_one',loader_args=dict(ofs=60,stopband=((0,3),(30,-1))),\n",
    "                 model='cca',clsfr_args=dict(tau_ms=350,evtlabs=('00','01','10','11'),rank=5))"
   ]
  },
  {
   "cell_type": "code",
   "execution_count": null,
   "metadata": {
    "scrolled": false
   },
   "outputs": [],
   "source": [
    "# WOW! that killed!! performance, Suspect that too many evt types introduced numerical issues...\n",
    "# tweak the condition number in the CCA matrix inverses with the rcond parameter to address the numerical degenercies...\n",
    "# alternative is to use reg\n",
    "analyse_datasets('plos_one',loader_args=dict(ofs=60,stopband=((0,3),(30,-1))),\n",
    "                 model='cca',clsfr_args=dict(tau_ms=350,evtlabs=('00','01','10','11'),rank=1,rcond=(1e-6,1e-4)))\n",
    "# Not as good as re-fe alone, but OK."
   ]
  },
  {
   "cell_type": "code",
   "execution_count": null,
   "metadata": {
    "scrolled": false,
    "tags": []
   },
   "outputs": [],
   "source": [
    "dataset_loader, dataset_files, dataroot = get_dataset('lowlands')\n",
    "print(\"Got {} datasets\".format(len(dataset_files)))\n"
   ]
  },
  {
   "cell_type": "code",
   "execution_count": null,
   "metadata": {
    "scrolled": true
   },
   "outputs": [],
   "source": [
    "# run the  analysis  -- this may take a while!\n",
    "analyse_datasets('lowlands',loader_args=dict(ofs=90,stopband=((0,3),(25,-1))),\n",
    "                 model='cca',clsfr_args=dict(tau_ms=450,evtlabs=('re','fe'),rank=1,reg=.02))\n",
    "# bp=3-25, rank=1, reg=.02, ofs=60, tau=500 -> .56\n",
    "# bp=3-25, rank=1, reg=.02, ofs=60, tau=450 -> .56 (@29)\n",
    "# bp=3-25, rank=1, reg=.02, ofs=80, tau=450 -> .53 (@30)\n",
    "# bp=3-25, rank=1, reg=.02, ofs=90, tau=450 -> .56 (@28 : 44,23,42,39)"
   ]
  },
  {
   "cell_type": "code",
   "execution_count": null,
   "metadata": {
    "scrolled": true
   },
   "outputs": [],
   "source": [
    "# run the  analysis  -- this may take a while!\n",
    "analyse_datasets('lowlands',loader_args=dict(ofs=90,stopband=((0,3),(25,-1))),\n",
    "                 model='cca',clsfr_args=dict(tau_ms=450,evtlabs=('re','fe'),rank=1,reg=.02))\n",
    "# bp=3-25, rank=1, reg=.02, ofs=90, tau=450 -> .56 (@.28)"
   ]
  },
  {
   "cell_type": "code",
   "execution_count": null,
   "metadata": {
    "scrolled": false,
    "tags": []
   },
   "outputs": [],
   "source": [
    "dataset_loader, dataset_files, dataroot = get_dataset('p300_prn')\n",
    "print(\"Got {} datasets\".format(len(dataset_files)))"
   ]
  },
  {
   "cell_type": "code",
   "execution_count": null,
   "metadata": {
    "scrolled": true,
    "tags": []
   },
   "outputs": [],
   "source": [
    "analyse_datasets('p300_prn',dataset_args=dict(label='rc_5_flash'),\n",
    "                 loader_args=dict(ofs=32,stopband=((0,1),(12,-1)),subtriallen=None),\n",
    "                 model='cca',clsfr_args=dict(tau_ms=750,evtlabs=('re','anyre'),rank=3,reg=.02))\n",
    "# bp=1-12, ofs=32, tau=750, evtlabs=('re','anyre'), rank=1 -> 33 (@10)\n",
    "# bp=1-12, ofs=32, tau=750, evtlabs=('re','anyre'), rank=1 -> 28 (@08)\n",
    "# bp=1-12, ofs=32, tau=750, evtlabs=('re','anyre'), rank=1 -> 29 (@09)\n"
   ]
  },
  {
   "cell_type": "code",
   "execution_count": null,
   "metadata": {
    "scrolled": false
   },
   "outputs": [],
   "source": [
    "debug_test_single_dataset('p300_prn',dataset_args=dict(label='rc_5_flash'),\n",
    "                 loader_args=dict(ofs=32,stopband=((0,1),(12,-1)),subtriallen=None),\n",
    "                 model='cca',tau_ms=750,evtlabs=('re','anyre'),rank=3,reg=.02)"
   ]
  },
  {
   "cell_type": "code",
   "execution_count": null,
   "metadata": {
    "scrolled": false,
    "tags": []
   },
   "outputs": [],
   "source": [
    "analyse_datasets('p300_prn',dataset_args=dict(label='nan_rc_5_flip'),\n",
    "                 loader_args=dict(ofs=32,stopband=((0,1),(8,-1)),subtriallen=None),\n",
    "                 clsfr_args=dict(tau_ms=750,evtlabs=('re','anyre'),rank=6,reg=.02))\n",
    "# bp=1-8, tau=750, rank=3, reg=.02 -> 73 (@.07)  \n",
    "# bp=1-12, tau=750, rank=3, reg=.02 -> 72 (@.07)  \n",
    "# bp=3-25, tau=750, rank=3, reg=.02 -> 66 (@.16)\n",
    "# bp=1-25, tau=750, rank=3, reg=.02 -> 69 (@.08)\n",
    "# bp=1-8, tau=750, rank=1, reg=.02 -> 68 (@.12)  "
   ]
  },
  {
   "cell_type": "code",
   "execution_count": null,
   "metadata": {
    "scrolled": true,
    "tags": []
   },
   "outputs": [],
   "source": [
    "analyse_datasets('p300_prn',dataset_args=dict(label='prn_5_flip'),\n",
    "                 loader_args=dict(ofs=32,stopband=((0,1),(12,-1)),subtriallen=None),\n",
    "                 model='cca',clsfr_args=dict(tau_ms=750,evtlabs=('re','anyre'),rank=3,reg=.02))\n",
    "# bp=1-12, tau=750, rank=3, reg=.02 -> XX (@.07)  # p-val are too pessimistic"
   ]
  },
  {
   "cell_type": "code",
   "execution_count": null,
   "metadata": {
    "scrolled": true,
    "tags": []
   },
   "outputs": [],
   "source": [
    "analyse_datasets('p300_prn',dataset_args=dict(label='rc_10_flip'),\n",
    "                 loader_args=dict(ofs=32,stopband=((0,1),(12,-1)),subtriallen=None),\n",
    "                 model='cca',clsfr_args=dict(tau_ms=750,evtlabs=('re','anyre'),rank=3,reg=.02))\n",
    "# bp=1-12, ofs=32, tau=750, evtlabs=('re','anyre'), rank=3 = 81 @06 (19,114,17,140)"
   ]
  },
  {
   "cell_type": "code",
   "execution_count": null,
   "metadata": {
    "scrolled": true,
    "tags": []
   },
   "outputs": [],
   "source": [
    "analyse_datasets('p300_prn',dataset_args=dict(label='prn_10_flip'),\n",
    "                 loader_args=dict(ofs=32,stopband=((0,1),(12,-1)),subtriallen=None),\n",
    "                 model='cca',clsfr_args=dict(tau_ms=750,evtlabs=('re','anyre'),rank=3,reg=.02))"
   ]
  },
  {
   "cell_type": "code",
   "execution_count": null,
   "metadata": {
    "scrolled": true,
    "tags": []
   },
   "outputs": [],
   "source": [
    "analyse_datasets('p300_prn',dataset_args=dict(label='prn_15_flip'),\n",
    "                 loader_args=dict(ofs=32,stopband=((0,1),(12,-1)),subtriallen=None),\n",
    "                 model='cca',clsfr_args=dict(tau_ms=750,evtlabs=('re','anyre'),rank=3,reg=.02))\n",
    "# bp=1-12, ofs=32, tau=750, evtlabs=('re','anyre'), rank=3 -> 76 @04 (23,46,20,37)"
   ]
  },
  {
   "cell_type": "code",
   "execution_count": null,
   "metadata": {
    "scrolled": true,
    "tags": []
   },
   "outputs": [],
   "source": [
    "analyse_datasets('p300_prn',dataset_args=dict(label='prn_5_flip'),\n",
    "                 loader_args=dict(ofs=32,stopband=((0,1),(12,-1)),subtriallen=None),\n",
    "                 preprocess_args=dict(badChannelThresh=None, badTrialThresh=None, whiten=False),\n",
    "                 model='lr',clsfr_args=dict(tau_ms=750,evtlabs=('re','anyre'),ignore_unlabelled=True,center=True))"
   ]
  },
  {
   "cell_type": "code",
   "execution_count": null,
   "metadata": {
    "scrolled": true
   },
   "outputs": [],
   "source": [
    "analyse_datasets('p300_prn',dataset_args=dict(label='rc_5_flash'),\n",
    "                 loader_args=dict(ofs=32,stopband=((0,1),(12,-1)),subtriallen=None),\n",
    "                 preprocess_args=dict(badChannelThresh=None, badTrialThresh=None, whiten=False),\n",
    "                 model='lr',clsfr_args=dict(tau_ms=750,evtlabs=('re','anyre'),ignore_unlabelled=True,center=True))"
   ]
  },
  {
   "cell_type": "code",
   "execution_count": null,
   "metadata": {
    "scrolled": true
   },
   "outputs": [],
   "source": [
    "analyse_datasets('p300_prn',dataset_args=dict(label='rc_5_flip'),\n",
    "                 loader_args=dict(ofs=32,stopband=((0,1),(12,-1)),subtriallen=None),\n",
    "                 preprocess_args=dict(badChannelThresh=None, badTrialThresh=None, whiten=False),\n",
    "                 model='lr',clsfr_args=dict(tau_ms=750,evtlabs=('re','anyre'),ignore_unlabelled=True,center=True))"
   ]
  },
  {
   "cell_type": "code",
   "execution_count": null,
   "metadata": {
    "scrolled": true
   },
   "outputs": [],
   "source": [
    "analyse_datasets('p300_prn',dataset_args=dict(label='rc_10_flip'),\n",
    "                 loader_args=dict(ofs=32,stopband=((0,1),(12,-1)),subtriallen=None),\n",
    "                 preprocess_args=dict(badChannelThresh=None, badTrialThresh=None, whiten=False),\n",
    "                 model='lr',clsfr_args=dict(tau_ms=750,evtlabs=('re','anyre'),ignore_unlabelled=True,center=True))"
   ]
  },
  {
   "cell_type": "code",
   "execution_count": null,
   "metadata": {
    "scrolled": true
   },
   "outputs": [],
   "source": [
    "analyse_datasets('p300_prn',dataset_args=dict(label='prn_10_flip'),\n",
    "                 loader_args=dict(ofs=32,stopband=((0,1),(12,-1)),subtriallen=None),\n",
    "                 preprocess_args=dict(badChannelThresh=None, badTrialThresh=None, whiten=False),\n",
    "                 model='lr',clsfr_args=dict(tau_ms=750,evtlabs=('re','anyre'),ignore_unlabelled=True,center=True))"
   ]
  },
  {
   "cell_type": "code",
   "execution_count": null,
   "metadata": {
    "scrolled": true
   },
   "outputs": [],
   "source": [
    "analyse_datasets('p300_prn',dataset_args=dict(label='prn_15_flip'),\n",
    "                 loader_args=dict(ofs=32,stopband=((0,1),(12,-1)),subtriallen=None),\n",
    "                 preprocess_args=dict(badChannelThresh=None, badTrialThresh=None, whiten=False),\n",
    "                 model='lr',clsfr_args=dict(tau_ms=750,evtlabs=('re','anyre'),ignore_unlabelled=True,center=True))"
   ]
  },
  {
   "cell_type": "code",
   "execution_count": null,
   "metadata": {},
   "outputs": [],
   "source": [
    "    analyse_datasets(\"openBMI_ERP\",clsfr_args=dict(tau_ms=700,evtlabs=('re','ntre'),rank=5),\n",
    "                     loader_args=dict(ofs=30,stopband=((0,1),(12,-1))))\n",
    "# bp=1-12, evtlabs=('re','ntre'), tau=700, rank=5 -> "
   ]
  },
  {
   "cell_type": "code",
   "execution_count": null,
   "metadata": {},
   "outputs": [],
   "source": []
  }
 ],
 "metadata": {
  "kernelspec": {
   "display_name": "Python 3",
   "language": "python",
   "name": "python3"
  },
  "language_info": {
   "codemirror_mode": {
    "name": "ipython",
    "version": 3
   },
   "file_extension": ".py",
   "mimetype": "text/x-python",
   "name": "python",
   "nbconvert_exporter": "python",
   "pygments_lexer": "ipython3",
   "version": "3.7.4"
  },
  "name": "analyse_datasets.ipynb"
 },
 "nbformat": 4,
 "nbformat_minor": 2
}
