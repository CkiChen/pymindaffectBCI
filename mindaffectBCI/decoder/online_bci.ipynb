{
 "cells": [
  {
   "cell_type": "code",
   "execution_count": 1,
   "metadata": {},
   "outputs": [],
   "source": [
    "%load_ext autoreload\n",
    "%autoreload 2\n",
    "%gui qt\n",
    "import mindaffectBCI.decoder\n",
    "from multiprocessing import Process\n",
    "from time import sleep"
   ]
  },
  {
   "cell_type": "code",
   "execution_count": 2,
   "metadata": {},
   "outputs": [],
   "source": [
    "# start the utopia-hub process\n",
    "from mindaffectBCI.decoder import startUtopiaHub\n",
    "hub = Process(target=startUtopiaHub.run, daemon=True)\n",
    "hub.start()"
   ]
  },
  {
   "cell_type": "code",
   "execution_count": 3,
   "metadata": {},
   "outputs": [],
   "source": [
    "# start the ganglion acquisation process\n",
    "from mindaffectBCI.examples.acquisation import utopia_brainflow\n",
    "kwargs =dict(board_id=1, serial_port='com3') # connect to the ganglion\n",
    "acquisation  = Process(target=utopia_brainflow.run, kwargs=kwargs, daemon=True)\n",
    "acquisation.start()\n",
    "sleep(1) # N.B. need to sleep to boot the board correctly"
   ]
  },
  {
   "cell_type": "code",
   "execution_count": 4,
   "metadata": {},
   "outputs": [],
   "source": [
    "# start the decoder process\n",
    "from mindaffectBCI.decoder import decoder\n",
    "decoder = Process(target=decoder.mainloop, kwargs=dict(calplots=True), daemon=True)\n",
    "decoder.start()"
   ]
  },
  {
   "cell_type": "code",
   "execution_count": null,
   "metadata": {},
   "outputs": [],
   "source": [
    "# check all is running?\n",
    "print(\"Hub running {}\".format(hub.is_alive()))\n",
    "print(\"Acquisation running {}\".format(acquisation.is_alive()))\n",
    "print(\"Decoder running {}\".format(decoder.is_alive()))"
   ]
  },
  {
   "cell_type": "code",
   "execution_count": 5,
   "metadata": {},
   "outputs": [
    {
     "name": "stdout",
     "output_type": "stream",
     "text": [
      "Instruct (999999ms): Welcome to the mindaffectBCI\n",
      "\n",
      "Press the number of the option you want:\n",
      "\n",
      "0) Electrode Quality\n",
      "1) Calibration\n",
      "2) Copy-spelling\n",
      "3) Free-spelling\n",
      "Q) Quit\n",
      "Menu\n",
      "Instruct (50000ms): \n",
      "Instruct (150000ms): Welcome to the mindaffectBCI\n",
      "\n",
      "Searching for the mindaffect decoder\n",
      "\n",
      "Please wait\n",
      "Instruct (50000ms): Query Test:\n",
      "Electrode Quality (200000ms)\n",
      "Instruct (20000ms): Waiting for performance results from decoder\n",
      "\n",
      "Please wait\n",
      "stage transition\n",
      "connecting screen\n",
      "Not connected yet!!\n",
      "Trying to auto-discover the utopia-hub server\n",
      "making discovery object\n",
      "Sending query message:\n",
      "b'M-SEARCH * HTTP/1.1\\r\\nHOST: 239.255.255.250:1900\\r\\nMAN: \"ssdp:discover\"\\r\\nST: utopia/1.1\\r\\nMX: 5\\r\\n\\r\\n'\n",
      "Waiting responses\n",
      "Got response from : ('192.168.178.171', 1900)\n",
      "M-SEARCH * HTTP/1.1\n",
      "HOST: 239.255.255.250:1900\n",
      "MAN: \"ssdp:discover\"\n",
      "ST: utopia/1.1\n",
      "MX: 5\n",
      "\n",
      "\n",
      "\n",
      "Response matches server type: utopia/1.1\n",
      "Loc added to response list: 192.168.178.171\n",
      "Discovery returned 1 utopia-hub servers\n",
      "Discovered utopia-hub on 192.168.178.171 ...\n",
      "Tring to connect to: 192.168.178.171:-1\n",
      "Trying to connect to: 192.168.178.171:8400\n",
      "Connected!\n",
      "NewSubscriptions: PSNMEQ\n",
      "NewSubscriptions: MSPQ\n",
      "\n",
      "FlipTimes:18085.500000,18085.500000 (-1.000000,[0.000000,36171.000000])\n",
      "Hist:\n",
      "723.42 2170.26 3617.10 5063.94 6510.78 7957.62 9404.46 10851.30 12298.14 13744.98 15191.82 16638.66 18085.50 19532.34\n",
      "    1     0     0     0     0     0     0     0     0     0     0     0     0     0\n",
      "\n",
      "FlipTimes:12059.000000,6.000000 (20881.604752,[0.000000,36171.000000])\n",
      "Hist:\n",
      "723.42 2170.26 3617.10 5063.94 6510.78 7957.62 9404.46 10851.30 12298.14 13744.98 15191.82 16638.66 18085.50 19532.34\n",
      "    2     0     0     0     0     0     0     0     0     0     0     0     0     0\n",
      "\n",
      "FlipTimes:9057.000000,28.500000 (18076.014328,[0.000000,36171.000000])\n",
      "Hist:\n",
      "723.42 2170.26 3617.10 5063.94 6510.78 7957.62 9404.46 10851.30 12298.14 13744.98 15191.82 16638.66 18085.50 19532.34\n",
      "    3     0     0     0     0     0     0     0     0     0     0     0     0     0\n",
      "\n",
      "FlipTimes:7249.000000,17.000000 (16167.901549,[0.000000,36171.000000])\n",
      "Hist:\n",
      "723.42 2170.26 3617.10 5063.94 6510.78 7957.62 9404.46 10851.30 12298.14 13744.98 15191.82 16638.66 18085.50 19532.34\n",
      "    4     0     0     0     0     0     0     0     0     0     0     0     0     0\n",
      "\n",
      "FlipTimes:6043.666667,17.000000 (14759.329357,[0.000000,36171.000000])\n",
      "Hist:\n",
      "723.42 2170.26 3617.10 5063.94 6510.78 7957.62 9404.46 10851.30 12298.14 13744.98 15191.82 16638.66 18085.50 19532.34\n",
      "    5     0     0     0     0     0     0     0     0     0     0     0     0     0\n",
      "\n",
      "FlipTimes:5182.571429,17.000000 (13664.622118,[0.000000,36171.000000])\n",
      "Hist:\n",
      "723.42 2170.26 3617.10 5063.94 6510.78 7957.62 9404.46 10851.30 12298.14 13744.98 15191.82 16638.66 18085.50 19532.34\n",
      "    6     0     0     0     0     0     0     0     0     0     0     0     0     0\n",
      "\n",
      "FlipTimes:4536.875000,17.000000 (12782.125482,[0.000000,36171.000000])\n",
      "Hist:\n",
      "723.42 2170.26 3617.10 5063.94 6510.78 7957.62 9404.46 10851.30 12298.14 13744.98 15191.82 16638.66 18085.50 19532.34\n",
      "    7     0     0     0     0     0     0     0     0     0     0     0     0     0\n",
      "\n",
      "FlipTimes:4034.666667,17.000000 (12051.133111,[0.000000,36171.000000])\n",
      "Hist:\n",
      "723.42 2170.26 3617.10 5063.94 6510.78 7957.62 9404.46 10851.30 12298.14 13744.98 15191.82 16638.66 18085.50 19532.34\n",
      "    8     0     0     0     0     0     0     0     0     0     0     0     0     0\n",
      "stage transition\n",
      "main menu\n",
      "\n",
      "FlipTimes:174.746725,17.000000 (2389.134628,[0.000000,36171.000000])\n",
      "Hist:\n",
      "723.42 2170.26 3617.10 5063.94 6510.78 7957.62 9404.46 10851.30 12298.14 13744.98 15191.82 16638.66 18085.50 19532.34\n",
      "  228     0     0     0     0     0     0     0     0     0     0     0     0     0\n",
      "stage transition\n",
      "signal quality\n",
      "NewSubscriptions: MSPQD\n",
      "NewSubscriptions: MSPQ\n",
      "stage transition\n",
      "main menu\n",
      "\n",
      "FlipTimes:85.396584,17.000000 (1574.903764,[0.000000,36171.000000])\n",
      "Hist:\n",
      "723.42 2170.26 3617.10 5063.94 6510.78 7957.62 9404.46 10851.30 12298.14 13744.98 15191.82 16638.66 18085.50 19532.34\n",
      "  526     0     0     0     0     0     0     0     0     0     0     0     0     0\n",
      "\n",
      "FlipTimes:16.755714,17.000000 (1.401627,[13.000000,46.000000])\n",
      "Hist:\n",
      "13.66 14.98 16.30 17.62 18.94 20.26 21.58 22.90 24.22 25.54 26.86 28.18 29.50 30.82\n",
      "    4    23   196   472     3     0     0     0     0     0     0     0     0     1\n",
      "\n",
      "FlipTimes:16.684286,17.000000 (0.645472,[14.000000,19.000000])\n",
      "Hist:\n",
      "14.10 14.30 14.50 14.70 14.90 15.10 15.30 15.50 15.70 15.90 16.10 16.30 16.50 16.70\n",
      "    4     0     0     0     0    24     0     0     0     0   194     0     0     0\n",
      "\n",
      "FlipTimes:16.682857,17.000000 (0.634707,[14.000000,19.000000])\n",
      "Hist:\n",
      "14.10 14.30 14.50 14.70 14.90 15.10 15.30 15.50 15.70 15.90 16.10 16.30 16.50 16.70\n",
      "    3     0     0     0     0    23     0     0     0     0   198     0     0     0\n",
      "stage transition\n"
     ]
    }
   ],
   "source": [
    "# run the stimulus, with default parameters\n",
    "from mindaffectBCI.examples.presentation import selectionMatrix\n",
    "selectionMatrix.run(symbols=[['Hello','Good bye'],['Yes','No']])"
   ]
  },
  {
   "cell_type": "code",
   "execution_count": 19,
   "metadata": {},
   "outputs": [],
   "source": [
    "decoder.kill()\n",
    "hub.kill()"
   ]
  },
  {
   "cell_type": "code",
   "execution_count": 5,
   "metadata": {},
   "outputs": [
    {
     "name": "stdout",
     "output_type": "stream",
     "text": [
      "Hub running False\n",
      "Acquisation running True\n",
      "Decoder running True\n"
     ]
    }
   ],
   "source": []
  },
  {
   "cell_type": "code",
   "execution_count": 25,
   "metadata": {},
   "outputs": [],
   "source": []
  },
  {
   "cell_type": "code",
   "execution_count": 5,
   "metadata": {},
   "outputs": [
    {
     "name": "stdout",
     "output_type": "stream",
     "text": [
      "<Process(Process-2, stopped daemon)>\n"
     ]
    }
   ],
   "source": []
  },
  {
   "cell_type": "code",
   "execution_count": null,
   "metadata": {},
   "outputs": [],
   "source": []
  }
 ],
 "metadata": {
  "kernelspec": {
   "display_name": "Python 3",
   "language": "python",
   "name": "python3"
  },
  "language_info": {
   "codemirror_mode": {
    "name": "ipython",
    "version": 3
   },
   "file_extension": ".py",
   "mimetype": "text/x-python",
   "name": "python",
   "nbconvert_exporter": "python",
   "pygments_lexer": "ipython3",
   "version": "3.7.4"
  }
 },
 "nbformat": 4,
 "nbformat_minor": 4
}
