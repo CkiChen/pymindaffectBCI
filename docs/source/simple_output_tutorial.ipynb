{
 "cells": [
  {
   "cell_type": "markdown",
   "metadata": {},
   "source": [
    "# 2. Creating a Simple Output Module"
   ]
  },
  {
   "cell_type": "markdown",
   "metadata": {},
   "source": [
    "**Before starting this tutorial please complete the** [first run tutorial](first_run.ipynb) **to gain a general understanding of the components of this BCI.**  \n",
    "\n",
    "*The non-Jupyter Notebook version of this code and other output examples can be found in the* [examples/output](https://github.com/mindaffect/pymindaffectBCI/blob/doc/mindaffectBCI/examples/output/minimal_output.py) *directory*   \n",
    "\n",
    "An output module listens for selections from the MindAffect decoder and acts on them to create some output. Here we show how to make a simple output module which prints \"Hello World\" when the presentation 'button' with ID=1 is selected.  "
   ]
  },
  {
   "cell_type": "markdown",
   "metadata": {},
   "source": [
    "First, we import the module responsible for translating selections to output, and create the utopia2output object:"
   ]
  },
  {
   "cell_type": "code",
   "execution_count": 1,
   "metadata": {},
   "outputs": [],
   "source": [
    "# Import the utopia2output module\n",
    "from mindaffectBCI.utopia2output import Utopia2Output\n",
    "\n",
    "u2o=Utopia2Output()"
   ]
  },
  {
   "cell_type": "markdown",
   "metadata": {},
   "source": [
    "## Defining the Output function\n",
    "Now we define a function to print hello-world. "
   ]
  },
  {
   "cell_type": "code",
   "execution_count": 2,
   "metadata": {},
   "outputs": [],
   "source": [
    "def helloworld(objID):\n",
    "   print(\"hello world\")\n"
   ]
  },
  {
   "cell_type": "markdown",
   "metadata": {},
   "source": [
    "## Connecting the Output function\n",
    "And connect it so it is run when the object with ID=1 is selected. You can create as many output functions as needed, and connect them to different object ID's by simply adding them to the dictionary as *key-value* pairs."
   ]
  },
  {
   "cell_type": "code",
   "execution_count": 3,
   "metadata": {},
   "outputs": [],
   "source": [
    "# set the objectID2Action dictionary to use our helloworld function if 1 is selected\n",
    "u2o.objectID2Action={ 1:helloworld }"
   ]
  },
  {
   "cell_type": "markdown",
   "metadata": {},
   "source": [
    "### Note:\n",
    "To successfully test your output module you need to have the other components of the BCI running. As explained in the [first run tutorial](first_run.ipynb), additionally to the output module we build here, we need the Hub, Decoder, Presentation, and Acquisition components for a functioning BCI.  \n",
    "For a quick test of this output module you can launch all components from the terminal: \n",
    "\n",
    "```python3 -m mindaffectBCI.online_bci``` \n",
    "\n",
    "Or using fake data:   \n",
    "\n",
    "```python -m mindaffectBCI.online_bci --acquisation=\"fakedata\"```\n",
    "\n",
    "**Follow our tutorial on** [Building a Simple Presentation Module](simple_presentation_tutorial.ipynb) **to integrate the behaviour of this seperate output module into a custom presentation module.**"
   ]
  },
  {
   "cell_type": "markdown",
   "metadata": {},
   "source": [
    "## Connect and Run\n",
    "We now connect our output module to a running decoder and run the main loop. Selection of ID=1 will result in printing \"Hello World\" to this prompt."
   ]
  },
  {
   "cell_type": "code",
   "execution_count": null,
   "metadata": {},
   "outputs": [],
   "source": [
    "# connect\n",
    "u2o.connect()\n",
    "\n",
    "# run the main loop\n",
    "u2o.run()"
   ]
  },
  {
   "cell_type": "code",
   "execution_count": null,
   "metadata": {},
   "outputs": [],
   "source": []
  }
 ],
 "metadata": {
  "kernelspec": {
   "display_name": "Python 3",
   "language": "python",
   "name": "python3"
  },
  "language_info": {
   "codemirror_mode": {
    "name": "ipython",
    "version": 3
   },
   "file_extension": ".py",
   "mimetype": "text/x-python",
   "name": "python",
   "nbconvert_exporter": "python",
   "pygments_lexer": "ipython3",
   "version": "3.6.9"
  }
 },
 "nbformat": 4,
 "nbformat_minor": 4
}
