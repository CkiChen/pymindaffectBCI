{
 "cells": [
  {
   "cell_type": "markdown",
   "metadata": {},
   "source": [
    "# MindAffect BCI: 3. Running Custom Presentation\n",
    "\n",
    "**Complete the first run and Simple Presentation tutorial before starting this one.**\n",
    "\n",
    "This notebook runs a full BCI using the custom presentation module made in the [Simple Presentation Tutorial](simple_presentation_tutorial.ipynb). To do this we first start the Hub, Acquisition driver, and the Decoder. For more information on these components and why we need them please consult the [First Run Tutorial](first_run.ipynb). "
   ]
  },
  {
   "cell_type": "code",
   "execution_count": 1,
   "metadata": {},
   "outputs": [],
   "source": [
    "# Import the mindaffectBCI decoder and other required modules. \n",
    "%load_ext autoreload\n",
    "%autoreload 2\n",
    "%gui qt\n",
    "import mindaffectBCI.decoder\n",
    "from multiprocessing import Process\n",
    "from time import sleep"
   ]
  },
  {
   "cell_type": "markdown",
   "metadata": {},
   "source": [
    "## Start the Hub"
   ]
  },
  {
   "cell_type": "code",
   "execution_count": 2,
   "metadata": {},
   "outputs": [],
   "source": [
    "#--------------------------- HUB ------------------------------\n",
    "# start the utopia-hub process\n",
    "from mindaffectBCI.decoder import startUtopiaHub\n",
    "hub = Process(target=startUtopiaHub.run, daemon=True)\n",
    "hub.start()"
   ]
  },
  {
   "cell_type": "markdown",
   "metadata": {},
   "source": [
    "## Start the Acquisition driver\n",
    "\n",
    "**Do not forget to change the acq_args as explained in the first run tutorial!**"
   ]
  },
  {
   "cell_type": "code",
   "execution_count": 3,
   "metadata": {},
   "outputs": [],
   "source": [
    "# start the ganglion acquisation process\n",
    "# Using brainflow for the acquisation driver.  \n",
    "#  the brainflowargs are kwargs passed to BrainFlowInputParams\n",
    "#  so change the board_id and other args to use other boards\n",
    "from mindaffectBCI.examples.acquisation import utopia_brainflow\n",
    "acq_args =dict(board_id=1, serial_port='com4') # connect to the ganglion\n",
    "acquisation = Process(target=utopia_brainflow.run, kwargs=acq_args, daemon=True)\n",
    "acquisation.start()\n",
    "# wait for driver to startup -- N.B. NEEDED!!\n",
    "sleep(1)"
   ]
  },
  {
   "cell_type": "markdown",
   "metadata": {},
   "source": [
    "## Start the Decoder "
   ]
  },
  {
   "cell_type": "code",
   "execution_count": 4,
   "metadata": {},
   "outputs": [],
   "source": [
    "# start the decoder process, wih default args for noise-tagging\n",
    "from mindaffectBCI.decoder import decoder\n",
    "decoder = Process(target=decoder.mainloop, kwargs=dict(\n",
    "        stopband=[[45,65],[0,3],[25,-1]],\n",
    "        out_fs=100,\n",
    "        evtlabs=[\"re\",\"fe\"],\n",
    "        tau_ms=450,\n",
    "        calplots=True,\n",
    "        predplots=False\n",
    "    ), daemon=True)\n",
    "decoder.start()"
   ]
  },
  {
   "cell_type": "markdown",
   "metadata": {},
   "source": [
    "## Make sure everything is running"
   ]
  },
  {
   "cell_type": "code",
   "execution_count": 5,
   "metadata": {},
   "outputs": [
    {
     "name": "stdout",
     "output_type": "stream",
     "text": [
      "Hub running True\n",
      "Acquisation running False\n",
      "Decoder running True\n"
     ]
    }
   ],
   "source": [
    "# check all is running?\n",
    "print(\"Hub running {}\".format(hub.is_alive()))\n",
    "print(\"Acquisation running {}\".format(acquisation.is_alive()))\n",
    "print(\"Decoder running {}\".format(decoder.is_alive()))"
   ]
  },
  {
   "cell_type": "markdown",
   "metadata": {},
   "source": [
    "## Run the Custom Presentation\n",
    "\n",
    "We run our custom presentation module by first importing and then running it."
   ]
  },
  {
   "cell_type": "code",
   "execution_count": null,
   "metadata": {},
   "outputs": [],
   "source": [
    "# import and run the presentation\n",
    "from mindaffectBCI.examples.presentation import minimal_presentation\n",
    "\n",
    "minimal_presentation.run()"
   ]
  }
 ],
 "metadata": {
  "kernelspec": {
   "display_name": "Python 3",
   "language": "python",
   "name": "python3"
  },
  "language_info": {
   "codemirror_mode": {
    "name": "ipython",
    "version": 3
   },
   "file_extension": ".py",
   "mimetype": "text/x-python",
   "name": "python",
   "nbconvert_exporter": "python",
   "pygments_lexer": "ipython3",
   "version": "3.6.9"
  }
 },
 "nbformat": 4,
 "nbformat_minor": 4
}
